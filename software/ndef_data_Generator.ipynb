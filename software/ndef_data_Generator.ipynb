{
 "cells": [
  {
   "cell_type": "code",
   "execution_count": null,
   "metadata": {},
   "outputs": [
    {
     "name": "stdout",
     "output_type": "stream",
     "text": [
      "size is : 34.0\n",
      "{0XE1, 0X40, 0X40, 0X00, 0X03, 0X1B, 0XD1, 0X01, 0X17, 0X54, 0X02, 0X65, 0X6E, 0X49, 0X20, 0X77, 0X61, 0X73, 0X20, 0X72, 0X75, 0X6E, 0X20, 0X20, 0X20, 0X20, 0X31, 0X20, 0X74, 0X69, 0X6D, 0X65, 0X73, 0XFE};\n"
     ]
    }
   ],
   "source": [
    "import ndef\n",
    "\n",
    "# Define the NFC Capability Container (CC bytes)\n",
    "magic_comment_readwrite = \"0XE1, 0X40, 0X40, 0X00\"  # Read/Write enabled\n",
    "magic_comment_only_read = \"0XE1, 0X40, 0X40, 0X01\"   # Read-Only mode\n",
    "\n",
    "def generate_nfc_c_table(records, read_only=False):\n",
    "    \"\"\"\n",
    "    Generate a C-style array for an NFC Type 2 Tag storing any NDEF record(s).\n",
    "\n",
    "    Args:\n",
    "        records (list): A list of NDEF records (e.g., ndef.UriRecord, ndef.TextRecord).\n",
    "        read_only (bool): Whether the tag should be read-only.\n",
    "\n",
    "    Returns:\n",
    "        str: C initialization table as a formatted string.\n",
    "    \"\"\"\n",
    "    # Select the correct CC bytes\n",
    "    magic_comment = magic_comment_only_read if read_only else magic_comment_readwrite\n",
    "\n",
    "    # Encode all NDEF records\n",
    "    ndef_payload = b''.join(ndef.message_encoder(records))\n",
    "\n",
    "    # Compute the length of the NDEF message\n",
    "    ndef_length = len(ndef_payload)\n",
    "\n",
    "    # Construct the final NDEF message with Type 2 NFC header\n",
    "    ndef_message = bytes([0x03, ndef_length]) + ndef_payload + b'\\xFE'  # Add NDEF start + end marker\n",
    "\n",
    "    # Convert to hexadecimal representation\n",
    "    hex_message = ndef_message.hex().upper()\n",
    "    \n",
    "    # notify length \n",
    "    print(\"size is : \" + str(4 +len(hex_message)/2))\n",
    "    hex_split = [f\"0X{hex_message[i:i+2]}\" for i in range(0, len(hex_message), 2)]\n",
    "\n",
    "    # Format as C array\n",
    "    c_table = f\"{{{magic_comment}, \" + ', '.join(hex_split) + \"};\"\n",
    "    \n",
    "    return c_table\n",
    "\n",
    "# Example: Generate C-style NFC table for multiple records (multiple are allowed)\n",
    "records = [\n",
    "    ndef.TextRecord(\"I was run    1 times\")\n",
    "    # ndef.UriRecord(\"youtube.com\") # link (or location)\n",
    "]\n",
    "#note : Apple cant read Geo data and texts\n",
    "\n",
    "\n",
    "print(generate_nfc_c_table(records, read_only=False))"
   ]
  }
 ],
 "metadata": {
  "kernelspec": {
   "display_name": "Python 3",
   "language": "python",
   "name": "python3"
  },
  "language_info": {
   "codemirror_mode": {
    "name": "ipython",
    "version": 3
   },
   "file_extension": ".py",
   "mimetype": "text/x-python",
   "name": "python",
   "nbconvert_exporter": "python",
   "pygments_lexer": "ipython3",
   "version": "3.12.6"
  }
 },
 "nbformat": 4,
 "nbformat_minor": 2
}
